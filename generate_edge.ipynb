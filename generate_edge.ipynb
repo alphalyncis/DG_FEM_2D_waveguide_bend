{
 "cells": [
  {
   "cell_type": "markdown",
   "metadata": {},
   "source": [
    "## Generate edge files for discontinous Galerkin FEM"
   ]
  },
  {
   "cell_type": "code",
   "execution_count": 1,
   "metadata": {},
   "outputs": [],
   "source": [
    "import numpy as np"
   ]
  },
  {
   "cell_type": "code",
   "execution_count": 53,
   "metadata": {},
   "outputs": [
    {
     "data": {
      "text/plain": [
       "array([[  1,   2,   4],\n",
       "       [  3,   1,   5],\n",
       "       [  5,   1,   4],\n",
       "       ...,\n",
       "       [574, 570, 572],\n",
       "       [573, 575, 572],\n",
       "       [575, 574, 572]])"
      ]
     },
     "execution_count": 53,
     "metadata": {},
     "output_type": "execute_result"
    }
   ],
   "source": [
    "elements = np.loadtxt('elements.txt', dtype=int)\n",
    "elements = elements+1\n",
    "elements"
   ]
  },
  {
   "cell_type": "markdown",
   "metadata": {},
   "source": [
    "### Generate edge.txt"
   ]
  },
  {
   "cell_type": "code",
   "execution_count": 54,
   "metadata": {},
   "outputs": [
    {
     "data": {
      "text/plain": [
       "(1562, 2)"
      ]
     },
     "execution_count": 54,
     "metadata": {},
     "output_type": "execute_result"
    }
   ],
   "source": [
    "edges = []\n",
    "for row in elements:\n",
    "    edge1 = sorted([row[0],row[1]])\n",
    "    edge2 = sorted([row[1],row[2]])\n",
    "    edge3 = sorted([row[0],row[2]])\n",
    "    if edge1 not in edges:\n",
    "        edges.append(edge1)\n",
    "    if edge2 not in edges:\n",
    "        edges.append(edge2)\n",
    "    if edge3 not in edges:\n",
    "        edges.append(edge3)\n",
    "edges=np.array(edges)\n",
    "edges.shape"
   ]
  },
  {
   "cell_type": "code",
   "execution_count": 55,
   "metadata": {},
   "outputs": [],
   "source": [
    "np.savetxt('edges.txt', edges, fmt='%1d')"
   ]
  },
  {
   "cell_type": "markdown",
   "metadata": {},
   "source": [
    "### Generate elementEdges.txt"
   ]
  },
  {
   "cell_type": "code",
   "execution_count": 56,
   "metadata": {},
   "outputs": [
    {
     "data": {
      "text/plain": [
       "(988, 3)"
      ]
     },
     "execution_count": 56,
     "metadata": {},
     "output_type": "execute_result"
    }
   ],
   "source": [
    "elementEdges = []\n",
    "for row in elements:\n",
    "    edge1 = sorted([row[0],row[1]])\n",
    "    edge2 = sorted([row[1],row[2]])\n",
    "    edge3 = sorted([row[0],row[2]])\n",
    "    result = [np.where(np.all(edges==edge1,axis=1))[0][0]+1,\n",
    "              np.where(np.all(edges==edge2,axis=1))[0][0]+1,\n",
    "              np.where(np.all(edges==edge3,axis=1))[0][0]+1]\n",
    "    elementEdges.append(result)\n",
    "elementEdges=np.array(elementEdges)\n",
    "elementEdges.shape"
   ]
  },
  {
   "cell_type": "code",
   "execution_count": 57,
   "metadata": {},
   "outputs": [],
   "source": [
    "np.savetxt('elementEdges.txt', elementEdges, fmt='%1d')"
   ]
  },
  {
   "cell_type": "code",
   "execution_count": 64,
   "metadata": {},
   "outputs": [
    {
     "data": {
      "text/plain": [
       "1"
      ]
     },
     "execution_count": 64,
     "metadata": {},
     "output_type": "execute_result"
    }
   ],
   "source": [
    "def fib(n):\n",
    "    a=0\n",
    "    b=1\n",
    "    for i in range(n):\n",
    "        tmp=a\n",
    "        a=a+b\n",
    "        b=tmp\n",
    "    return a\n",
    "fib(2)"
   ]
  },
  {
   "cell_type": "code",
   "execution_count": 65,
   "metadata": {},
   "outputs": [
    {
     "name": "stdout",
     "output_type": "stream",
     "text": [
      "0\n"
     ]
    }
   ],
   "source": [
    "for i in range(1):\n",
    "    print(i)"
   ]
  }
 ],
 "metadata": {
  "interpreter": {
   "hash": "b5081f00891ffd85138c812c63826c6e47d57c93e8fb9c711cbdfe2686f1a8b2"
  },
  "kernelspec": {
   "display_name": "Python 3.8.3 64-bit ('base': conda)",
   "language": "python",
   "name": "python3"
  },
  "language_info": {
   "codemirror_mode": {
    "name": "ipython",
    "version": 3
   },
   "file_extension": ".py",
   "mimetype": "text/x-python",
   "name": "python",
   "nbconvert_exporter": "python",
   "pygments_lexer": "ipython3",
   "version": "3.8.3"
  },
  "orig_nbformat": 4
 },
 "nbformat": 4,
 "nbformat_minor": 2
}
